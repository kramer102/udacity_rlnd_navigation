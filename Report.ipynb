{
 "cells": [
  {
   "cell_type": "markdown",
   "metadata": {},
   "source": [
    "# Navigation Project\n",
    "\n",
    "This project implements a deep Q-network similar to the paper [Human-level control through deep reinforcement learning](https://storage.googleapis.com/deepmind-media/dqn/DQNNaturePaper.pdf) to train an agent who navigates to yellow bananas in a Unity environment"
   ]
  },
  {
   "cell_type": "markdown",
   "metadata": {},
   "source": [
    "## General DQN Learning Algorithm\n",
    "\n",
    "![DQN Algorithm](images/DQN_algorithm1.png)"
   ]
  },
  {
   "cell_type": "markdown",
   "metadata": {},
   "source": [
    "## Implementation:\n",
    "\n",
    "The primary difference between the implementation of DQN in [Human-level control through deep reinforcement learning](https://storage.googleapis.com/deepmind-media/dqn/DQNNaturePaper.pdf) and this Navigation project is direct knowledge of the enviornment in Navigation. The original DQN used only the screen images to learn Atari games. They pre-process the screen shots using $\\phi$ to generalize across many games. Our enviornment is only 37 inputs and we are able to use a simple multi-layer perceptron Q Network function approximator instead of the CNN archetecture listed in the paper <br>\n",
    "\n",
    "The file dqn_agent_nav.py and model_nav.py contain the specific implementation used. PyTorch and Python 3 were used to implement the algorithm. <br>\n",
    "\n",
    "See the file navigation_unity_environment.ipynb to interact with the environment.\n",
    "### Hyperparameters:"
   ]
  },
  {
   "cell_type": "code",
   "execution_count": 1,
   "metadata": {},
   "outputs": [],
   "source": [
    "BUFFER_SIZE = int(1e5)  # replay buffer size\n",
    "BATCH_SIZE = 64         # minibatch size \n",
    "GAMMA = 0.99            # discount factor \n",
    "TAU = 1e-3              # for soft update of target parameters \n",
    "LR = 5e-4               # learning rate \n",
    "UPDATE_EVERY = 4        # how often to update the network"
   ]
  },
  {
   "cell_type": "markdown",
   "metadata": {},
   "source": [
    "### Q-Network Architecture\n",
    "\n",
    "The Q-Network is implemented with a MLP. It uses 3 fully connected layers with ReLU activation. The loss is computed by minimizing the MSE of the Q expected with the Q target."
   ]
  },
  {
   "cell_type": "code",
   "execution_count": 2,
   "metadata": {},
   "outputs": [
    {
     "name": "stdout",
     "output_type": "stream",
     "text": [
      "QNetwork(\n",
      "  (fc1): Linear(in_features=37, out_features=64, bias=True)\n",
      "  (fc2): Linear(in_features=64, out_features=64, bias=True)\n",
      "  (fc3): Linear(in_features=64, out_features=4, bias=True)\n",
      ")\n"
     ]
    }
   ],
   "source": [
    "state_size = 37\n",
    "action_size = 4\n",
    "seed = 0\n",
    "\n",
    "import torch\n",
    "from model_nav import QNetwork\n",
    "# Q-Network\n",
    "qnetwork = QNetwork(state_size, action_size, seed)\n",
    "\n",
    "print(qnetwork)"
   ]
  },
  {
   "cell_type": "markdown",
   "metadata": {},
   "source": [
    "## Results\n",
    "\n",
    "The goal was an average of 13 averaged over 100 episodes. I ran it to 15 to be certain I would meet the threshold. The DQN agent Solved the Environment in 626 episodes with an average score of 15.02.\n",
    "\n",
    "![](images/results.png)"
   ]
  },
  {
   "cell_type": "markdown",
   "metadata": {},
   "source": [
    "## Ideas for future work\n",
    "\n",
    "This project implements a basic DQN. Performance would likely increase with the implementation of double DQN, a dueling DQN, and/or prioritized experience replay. The Hyperparameters were selected from an implementation to solve the OpenAI gym lunar lander environment. They could be tuned using a grid search to speed up the training time of this Navigation implementation."
   ]
  },
  {
   "cell_type": "code",
   "execution_count": null,
   "metadata": {},
   "outputs": [],
   "source": []
  }
 ],
 "metadata": {
  "kernelspec": {
   "display_name": "drlnd",
   "language": "python",
   "name": "drlnd"
  },
  "language_info": {
   "codemirror_mode": {
    "name": "ipython",
    "version": 3
   },
   "file_extension": ".py",
   "mimetype": "text/x-python",
   "name": "python",
   "nbconvert_exporter": "python",
   "pygments_lexer": "ipython3",
   "version": "3.6.8"
  },
  "varInspector": {
   "cols": {
    "lenName": 16,
    "lenType": 16,
    "lenVar": 40
   },
   "kernels_config": {
    "python": {
     "delete_cmd_postfix": "",
     "delete_cmd_prefix": "del ",
     "library": "var_list.py",
     "varRefreshCmd": "print(var_dic_list())"
    },
    "r": {
     "delete_cmd_postfix": ") ",
     "delete_cmd_prefix": "rm(",
     "library": "var_list.r",
     "varRefreshCmd": "cat(var_dic_list()) "
    }
   },
   "types_to_exclude": [
    "module",
    "function",
    "builtin_function_or_method",
    "instance",
    "_Feature"
   ],
   "window_display": false
  }
 },
 "nbformat": 4,
 "nbformat_minor": 2
}
